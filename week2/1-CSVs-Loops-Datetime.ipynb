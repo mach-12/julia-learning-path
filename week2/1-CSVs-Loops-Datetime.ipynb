{
 "cells": [
  {
   "cell_type": "markdown",
   "metadata": {},
   "source": [
    "# CVSs, Loops, Datetime"
   ]
  },
  {
   "cell_type": "markdown",
   "metadata": {},
   "source": [
    "## DelimimtedFiles Package"
   ]
  },
  {
   "cell_type": "markdown",
   "metadata": {},
   "source": [
    "**Why is the package not a core functionality of Julia?**\n",
    "\n",
    "1) Startup efficieny: This is not an essential Feature needed at startup. Also, the size of this functionality is quite large.\n",
    "\n",
    "2) Funtional Efficieny: By having a modular design, it means that functionalites must follow Julia's design philosophy of consistency over convenience. "
   ]
  },
  {
   "cell_type": "code",
   "execution_count": 1,
   "metadata": {},
   "outputs": [
    {
     "data": {
      "text/plain": [
       "54×9 Matrix{Any}:\n",
       " \"25 Nov 2015\"     \"28,637\"  …     \"4,808\"     \"14,122\"     \"3,955\"\n",
       " \"18 Nov 2015\"     \"28,634\"        \"4,808\"     \"14,122\"     \"3,955\"\n",
       " \"11 Nov 2015\"     \"28,635\"        \"4,808\"     \"14,122\"     \"3,955\"\n",
       " \"4 Nov 2015\"      \"28,607\"        \"4,808\"     \"14,089\"     \"3,955\"\n",
       " \"25 Oct 2015\"     \"28,539\"        \"4,808\"     \"14,061\"     \"3,955\"\n",
       " \"18 Oct 2015\"     \"28,476\"  …     \"4,808\"     \"14,001\"     \"3,955\"\n",
       " \"11 Oct 2015\"     \"28,454\"        \"4,808\"     \"13,982\"     \"3,955\"\n",
       " \"27 Sep 2015\"     \"28,388\"        \"4,808\"     \"13,911\"     \"3,955\"\n",
       " \"20 Sep 2015\"     \"28,295\"        \"4,808\"     \"13,823\"     \"3,955\"\n",
       " \"13 Sep 2015\"     \"28,220\"        \"4,808\"     \"13,756\"     \"3,953\"\n",
       " ⋮                           ⋱                           \n",
       " \"14 Jul 2014\"  982          …  106         397          197\n",
       " \"2 Jul 2014\"   779              75         252          101\n",
       " \"17 Jun 2014\"  528              24          97           49\n",
       " \"27 May 2014\"  309              11          16            5\n",
       " \"12 May 2014\"  260              11            \"–\"          \"–\"\n",
       " \"1 May 2014\"   239          …   11            \"–\"          \"–\"\n",
       " \"14 Apr 2014\"  176               2            \"–\"          \"–\"\n",
       " \"31 Mar 2014\"  130               2            \"–\"          \"–\"\n",
       " \"22 Mar 2014\"   49                \"–\"         \"–\"          \"–\""
      ]
     },
     "metadata": {},
     "output_type": "display_data"
    }
   ],
   "source": [
    "using DelimitedFiles\n",
    "data = DelimitedFiles.readdlm(\"ebola_virus_epidemic_major_outbreaks.csv\", ',')\n",
    "data"
   ]
  },
  {
   "cell_type": "markdown",
   "metadata": {},
   "source": [
    "## Converting Dates"
   ]
  },
  {
   "cell_type": "code",
   "execution_count": 2,
   "metadata": {},
   "outputs": [
    {
     "data": {
      "text/plain": [
       "2015-11-25T00:00:00"
      ]
     },
     "metadata": {},
     "output_type": "display_data"
    }
   ],
   "source": [
    "using Dates\n",
    "Dates.DateTime(data[1,1], \"d u y\")"
   ]
  },
  {
   "cell_type": "code",
   "execution_count": 3,
   "metadata": {},
   "outputs": [],
   "source": [
    "col1 = data[:, 1]\n",
    "\n",
    "for i = 1:length(col1)\n",
    "    col1[i] = Dates.DateTime(col1[i], \"d u y\")\n",
    "end"
   ]
  },
  {
   "cell_type": "code",
   "execution_count": 4,
   "metadata": {},
   "outputs": [
    {
     "data": {
      "text/plain": [
       "54-element Vector{Any}:\n",
       " 2015-11-25T00:00:00\n",
       " 2015-11-18T00:00:00\n",
       " 2015-11-11T00:00:00\n",
       " 2015-11-04T00:00:00\n",
       " 2015-10-25T00:00:00\n",
       " 2015-10-18T00:00:00\n",
       " 2015-10-11T00:00:00\n",
       " 2015-09-27T00:00:00\n",
       " 2015-09-20T00:00:00\n",
       " 2015-09-13T00:00:00\n",
       " ⋮\n",
       " 2014-07-14T00:00:00\n",
       " 2014-07-02T00:00:00\n",
       " 2014-06-17T00:00:00\n",
       " 2014-05-27T00:00:00\n",
       " 2014-05-12T00:00:00\n",
       " 2014-05-01T00:00:00\n",
       " 2014-04-14T00:00:00\n",
       " 2014-03-31T00:00:00\n",
       " 2014-03-22T00:00:00"
      ]
     },
     "metadata": {},
     "output_type": "display_data"
    }
   ],
   "source": [
    "col1"
   ]
  },
  {
   "cell_type": "code",
   "execution_count": 5,
   "metadata": {},
   "outputs": [
    {
     "data": {
      "text/plain": [
       "735927"
      ]
     },
     "metadata": {},
     "output_type": "display_data"
    }
   ],
   "source": [
    "Dates.datetime2rata(col1[1]) # Format to assign \n"
   ]
  },
  {
   "cell_type": "code",
   "execution_count": 6,
   "metadata": {},
   "outputs": [
    {
     "data": {
      "text/plain": [
       "54-element Vector{Int64}:\n",
       " 613\n",
       " 606\n",
       " 599\n",
       " 592\n",
       " 582\n",
       " 575\n",
       " 568\n",
       " 554\n",
       " 547\n",
       " 540\n",
       "   ⋮\n",
       " 114\n",
       " 102\n",
       "  87\n",
       "  66\n",
       "  51\n",
       "  40\n",
       "  23\n",
       "   9\n",
       "   0"
      ]
     },
     "metadata": {},
     "output_type": "display_data"
    }
   ],
   "source": [
    "dayssincemar22(x) = Dates.datetime2rata(x) - Dates.datetime2rata(col1[54])   \n",
    "epidays = Array{Int64}(undef, 54)\n",
    "\n",
    "for i = 1:length(col1)\n",
    "    epidays[i] = dayssincemar22(col1[i])\n",
    "end\n",
    "\n",
    "epidays"
   ]
  },
  {
   "cell_type": "code",
   "execution_count": 7,
   "metadata": {},
   "outputs": [
    {
     "data": {
      "text/plain": [
       "54×9 Matrix{Any}:\n",
       " 613     \"28,637\"     \"11,314\"  …     \"4,808\"     \"14,122\"     \"3,955\"\n",
       " 606     \"28,634\"     \"11,314\"        \"4,808\"     \"14,122\"     \"3,955\"\n",
       " 599     \"28,635\"     \"11,314\"        \"4,808\"     \"14,122\"     \"3,955\"\n",
       " 592     \"28,607\"     \"11,314\"        \"4,808\"     \"14,089\"     \"3,955\"\n",
       " 582     \"28,539\"     \"11,298\"        \"4,808\"     \"14,061\"     \"3,955\"\n",
       " 575     \"28,476\"     \"11,298\"  …     \"4,808\"     \"14,001\"     \"3,955\"\n",
       " 568     \"28,454\"     \"11,297\"        \"4,808\"     \"13,982\"     \"3,955\"\n",
       " 554     \"28,388\"     \"11,296\"        \"4,808\"     \"13,911\"     \"3,955\"\n",
       " 547     \"28,295\"     \"11,295\"        \"4,808\"     \"13,823\"     \"3,955\"\n",
       " 540     \"28,220\"     \"11,291\"        \"4,808\"     \"13,756\"     \"3,953\"\n",
       "   ⋮                            ⋱                           \n",
       " 114  982          613          …  106         397          197\n",
       " 102  779          481              75         252          101\n",
       "  87  528          337              24          97           49\n",
       "  66  309          202              11          16            5\n",
       "  51  260          182              11            \"–\"          \"–\"\n",
       "  40  239          160          …   11            \"–\"          \"–\"\n",
       "  23  176          110               2            \"–\"          \"–\"\n",
       "   9  130           82               2            \"–\"          \"–\"\n",
       "   0   49           29                \"–\"         \"–\"          \"–\""
      ]
     },
     "metadata": {},
     "output_type": "display_data"
    }
   ],
   "source": [
    "data[:, 1] = epidays\n",
    "data"
   ]
  },
  {
   "cell_type": "markdown",
   "metadata": {},
   "source": [
    "## Coverting Values"
   ]
  },
  {
   "cell_type": "code",
   "execution_count": 9,
   "metadata": {},
   "outputs": [
    {
     "name": "stdout",
     "output_type": "stream",
     "text": [
      "Input: 10,000; Output: 10000\n",
      "Input: \"270,000\"; Output: 270000\n",
      "Input: –; Output: nothing\n",
      "Input: 1099; Output: 1099\n",
      "Input: 28,637; Output: 28637\n"
     ]
    }
   ],
   "source": [
    "function convert2int(value)\n",
    "\n",
    "    # Handle 'dashes'\n",
    "    if value == \"–\"\n",
    "        return 0\n",
    "    \n",
    "    # Handle Numbers\n",
    "    elseif isa(value, Number) \n",
    "        return value\n",
    "    \n",
    "    # Handle String Cases\n",
    "    elseif isa(value, String) || isa(value, SubString{String}) == true\n",
    "        value = replace(value, r\"[\\\",≥]\" => \"\" )\n",
    "        return parse(Int64, value)\n",
    "    end\n",
    "\n",
    "\n",
    "end\n",
    "\n",
    "# Testing\n",
    "convert2int_tests = [\"10,000\",\"\\\"270,000\\\"\", '–', 1099, data[1,2]]\n",
    "\n",
    "# Iterate through inputs, call convert2int, and print input and output\n",
    "for test in convert2int_tests\n",
    "    output = convert2int(test)\n",
    "    println(\"Input: $test; Output: $output\")\n",
    "end"
   ]
  },
  {
   "cell_type": "code",
   "execution_count": 23,
   "metadata": {},
   "outputs": [
    {
     "data": {
      "text/plain": [
       "54×9 Matrix{Int64}:\n",
       " 613  28637  11314  3804  2536  10675  4808  14122  3955\n",
       " 606  28634  11314  3804  2536  10672  4808  14122  3955\n",
       " 599  28635  11314  3805  2536  10672  4808  14122  3955\n",
       " 592  28607  11314  3810  2536  10672  4808  14089  3955\n",
       " 582  28539  11298  3806  2535  10672  4808  14061  3955\n",
       " 575  28476  11298  3803  2535  10672  4808  14001  3955\n",
       " 568  28454  11297  3800  2534  10672  4808  13982  3955\n",
       " 554  28388  11296  3805  2533  10672  4808  13911  3955\n",
       " 547  28295  11295  3800  2532  10672  4808  13823  3955\n",
       " 540  28220  11291  3792  2530  10672  4808  13756  3953\n",
       "   ⋮                                ⋮               \n",
       " 114    982    613   411   310    174   106    397   197\n",
       " 102    779    481   412   305    115    75    252   101\n",
       "  87    528    337   398   264     33    24     97    49\n",
       "  66    309    202   281   186     12    11     16     5\n",
       "  51    260    182   248   171     12    11      0     0\n",
       "  40    239    160   226   149     13    11      0     0\n",
       "  23    176    110   168   108      8     2      0     0\n",
       "   9    130     82   122    80      8     2      0     0\n",
       "   0     49     29    49    29      0     0      0     0"
      ]
     },
     "metadata": {},
     "output_type": "display_data"
    }
   ],
   "source": [
    "new = zeros(Int64, size(data))\n",
    "\n",
    "for i in 1:size(data, 1)\n",
    "    for j in 1:size(data, 2)\n",
    "        result = convert2int(data[i, j])\n",
    "        new[i, j] = result\n",
    "    end\n",
    "end\n",
    "\n",
    "new"
   ]
  },
  {
   "cell_type": "code",
   "execution_count": 24,
   "metadata": {},
   "outputs": [],
   "source": [
    "DelimitedFiles.writedlm(\"ebola_virus_epidemic_major_outbreaks_converted.csv\", data, ',')"
   ]
  }
 ],
 "metadata": {
  "kernelspec": {
   "display_name": "Julia 1.9.3",
   "language": "julia",
   "name": "julia-1.9"
  },
  "language_info": {
   "file_extension": ".jl",
   "mimetype": "application/julia",
   "name": "julia",
   "version": "1.9.3"
  }
 },
 "nbformat": 4,
 "nbformat_minor": 2
}
