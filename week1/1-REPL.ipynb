{
 "cells": [
  {
   "cell_type": "markdown",
   "metadata": {},
   "source": [
    "# REPL: Read, Evaluate, Print Loop"
   ]
  },
  {
   "cell_type": "markdown",
   "metadata": {},
   "source": [
    "It is the basic process in Julia. It runs everytime for evary task in Julia."
   ]
  },
  {
   "cell_type": "code",
   "execution_count": 1,
   "metadata": {},
   "outputs": [
    {
     "name": "stdout",
     "output_type": "stream",
     "text": [
      "Ganpati Bappa, Mourya!\n"
     ]
    }
   ],
   "source": [
    "println(\"Ganpati Bappa, Mourya!\") # Hello World! ~ Respects to Lord Ganesha"
   ]
  },
  {
   "cell_type": "markdown",
   "metadata": {},
   "source": [
    "## Examples"
   ]
  },
  {
   "cell_type": "code",
   "execution_count": 7,
   "metadata": {},
   "outputs": [
    {
     "name": "stdout",
     "output_type": "stream",
     "text": [
      "0.09999999999999964\n",
      "7.699999999999999  ...is the answer\n",
      "3 to the power 3 is 27\n",
      "Hello! My word! Hello! My word! \n"
     ]
    }
   ],
   "source": [
    "println(5 - 4.9) \n",
    "println(5+15 - 12.3, \"  ...is the answer\")\n",
    "println(3, \" to the power 3 is \", 3^3)\n",
    "println((\"Hello!\" * \" My word! \")^2)"
   ]
  }
 ],
 "metadata": {
  "kernelspec": {
   "display_name": "Julia 1.9.3",
   "language": "julia",
   "name": "julia-1.9"
  },
  "language_info": {
   "file_extension": ".jl",
   "mimetype": "application/julia",
   "name": "julia",
   "version": "1.9.3"
  }
 },
 "nbformat": 4,
 "nbformat_minor": 2
}
